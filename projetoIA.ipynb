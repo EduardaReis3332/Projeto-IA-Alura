{
  "nbformat": 4,
  "nbformat_minor": 0,
  "metadata": {
    "colab": {
      "provenance": [],
      "authorship_tag": "ABX9TyOlRSLVCsstZMPjEJylXbAX",
      "include_colab_link": true
    },
    "kernelspec": {
      "name": "python3",
      "display_name": "Python 3"
    },
    "language_info": {
      "name": "python"
    }
  },
  "cells": [
    {
      "cell_type": "markdown",
      "metadata": {
        "id": "view-in-github",
        "colab_type": "text"
      },
      "source": [
        "<a href=\"https://colab.research.google.com/github/EduardaReis3332/Projeto-IA-Alura/blob/main/projetoIA.ipynb\" target=\"_parent\"><img src=\"https://colab.research.google.com/assets/colab-badge.svg\" alt=\"Open In Colab\"/></a>"
      ]
    },
    {
      "cell_type": "markdown",
      "source": [
        "# execute"
      ],
      "metadata": {
        "id": "mzGBx2nHSbsj"
      }
    },
    {
      "cell_type": "code",
      "execution_count": 8,
      "metadata": {
        "colab": {
          "base_uri": "https://localhost:8080/"
        },
        "collapsed": true,
        "id": "asy9DCkiuTdH",
        "outputId": "7255b3c8-3ff3-4069-c761-6271c3a13c18"
      },
      "outputs": [
        {
          "output_type": "stream",
          "name": "stdout",
          "text": [
            "Requirement already satisfied: google-genai in /usr/local/lib/python3.11/dist-packages (1.15.0)\n",
            "Requirement already satisfied: anyio<5.0.0,>=4.8.0 in /usr/local/lib/python3.11/dist-packages (from google-genai) (4.9.0)\n",
            "Requirement already satisfied: google-auth<3.0.0,>=2.14.1 in /usr/local/lib/python3.11/dist-packages (from google-genai) (2.38.0)\n",
            "Requirement already satisfied: httpx<1.0.0,>=0.28.1 in /usr/local/lib/python3.11/dist-packages (from google-genai) (0.28.1)\n",
            "Requirement already satisfied: pydantic<3.0.0,>=2.0.0 in /usr/local/lib/python3.11/dist-packages (from google-genai) (2.11.4)\n",
            "Requirement already satisfied: requests<3.0.0,>=2.28.1 in /usr/local/lib/python3.11/dist-packages (from google-genai) (2.32.3)\n",
            "Requirement already satisfied: websockets<15.1.0,>=13.0.0 in /usr/local/lib/python3.11/dist-packages (from google-genai) (15.0.1)\n",
            "Requirement already satisfied: typing-extensions<5.0.0,>=4.11.0 in /usr/local/lib/python3.11/dist-packages (from google-genai) (4.13.2)\n",
            "Requirement already satisfied: idna>=2.8 in /usr/local/lib/python3.11/dist-packages (from anyio<5.0.0,>=4.8.0->google-genai) (3.10)\n",
            "Requirement already satisfied: sniffio>=1.1 in /usr/local/lib/python3.11/dist-packages (from anyio<5.0.0,>=4.8.0->google-genai) (1.3.1)\n",
            "Requirement already satisfied: cachetools<6.0,>=2.0.0 in /usr/local/lib/python3.11/dist-packages (from google-auth<3.0.0,>=2.14.1->google-genai) (5.5.2)\n",
            "Requirement already satisfied: pyasn1-modules>=0.2.1 in /usr/local/lib/python3.11/dist-packages (from google-auth<3.0.0,>=2.14.1->google-genai) (0.4.2)\n",
            "Requirement already satisfied: rsa<5,>=3.1.4 in /usr/local/lib/python3.11/dist-packages (from google-auth<3.0.0,>=2.14.1->google-genai) (4.9.1)\n",
            "Requirement already satisfied: certifi in /usr/local/lib/python3.11/dist-packages (from httpx<1.0.0,>=0.28.1->google-genai) (2025.4.26)\n",
            "Requirement already satisfied: httpcore==1.* in /usr/local/lib/python3.11/dist-packages (from httpx<1.0.0,>=0.28.1->google-genai) (1.0.9)\n",
            "Requirement already satisfied: h11>=0.16 in /usr/local/lib/python3.11/dist-packages (from httpcore==1.*->httpx<1.0.0,>=0.28.1->google-genai) (0.16.0)\n",
            "Requirement already satisfied: annotated-types>=0.6.0 in /usr/local/lib/python3.11/dist-packages (from pydantic<3.0.0,>=2.0.0->google-genai) (0.7.0)\n",
            "Requirement already satisfied: pydantic-core==2.33.2 in /usr/local/lib/python3.11/dist-packages (from pydantic<3.0.0,>=2.0.0->google-genai) (2.33.2)\n",
            "Requirement already satisfied: typing-inspection>=0.4.0 in /usr/local/lib/python3.11/dist-packages (from pydantic<3.0.0,>=2.0.0->google-genai) (0.4.0)\n",
            "Requirement already satisfied: charset-normalizer<4,>=2 in /usr/local/lib/python3.11/dist-packages (from requests<3.0.0,>=2.28.1->google-genai) (3.4.2)\n",
            "Requirement already satisfied: urllib3<3,>=1.21.1 in /usr/local/lib/python3.11/dist-packages (from requests<3.0.0,>=2.28.1->google-genai) (2.4.0)\n",
            "Requirement already satisfied: pyasn1<0.7.0,>=0.6.1 in /usr/local/lib/python3.11/dist-packages (from pyasn1-modules>=0.2.1->google-auth<3.0.0,>=2.14.1->google-genai) (0.6.1)\n"
          ]
        }
      ],
      "source": [
        "!pip install google-genai"
      ]
    },
    {
      "cell_type": "code",
      "source": [
        "import os\n",
        "from google.colab import userdata\n",
        "\n",
        "# Configura a chave da API a partir do Colab Secrets\n",
        "genai.configure(api_key=userdata.get('GOOGLE_API_KEY'))"
      ],
      "metadata": {
        "id": "DuwIvuXZwhB4"
      },
      "execution_count": 36,
      "outputs": []
    },
    {
      "cell_type": "code",
      "source": [
        "from google import genai\n",
        "\n",
        "client = genai.Client()"
      ],
      "metadata": {
        "id": "qxgBUsey07dN"
      },
      "execution_count": 37,
      "outputs": []
    },
    {
      "cell_type": "code",
      "source": [
        "for model in client.models.list():\n",
        "  print(model.name)"
      ],
      "metadata": {
        "colab": {
          "base_uri": "https://localhost:8080/"
        },
        "collapsed": true,
        "id": "DJ32bfzn6JSV",
        "outputId": "5a09b50d-eaf8-43e2-935f-141da7c603a6"
      },
      "execution_count": 38,
      "outputs": [
        {
          "output_type": "stream",
          "name": "stdout",
          "text": [
            "models/embedding-gecko-001\n",
            "models/gemini-1.0-pro-vision-latest\n",
            "models/gemini-pro-vision\n",
            "models/gemini-1.5-pro-latest\n",
            "models/gemini-1.5-pro-001\n",
            "models/gemini-1.5-pro-002\n",
            "models/gemini-1.5-pro\n",
            "models/gemini-1.5-flash-latest\n",
            "models/gemini-1.5-flash-001\n",
            "models/gemini-1.5-flash-001-tuning\n",
            "models/gemini-1.5-flash\n",
            "models/gemini-1.5-flash-002\n",
            "models/gemini-1.5-flash-8b\n",
            "models/gemini-1.5-flash-8b-001\n",
            "models/gemini-1.5-flash-8b-latest\n",
            "models/gemini-1.5-flash-8b-exp-0827\n",
            "models/gemini-1.5-flash-8b-exp-0924\n",
            "models/gemini-2.5-pro-exp-03-25\n",
            "models/gemini-2.5-pro-preview-03-25\n",
            "models/gemini-2.5-flash-preview-04-17\n",
            "models/gemini-2.5-flash-preview-04-17-thinking\n",
            "models/gemini-2.5-pro-preview-05-06\n",
            "models/gemini-2.0-flash-exp\n",
            "models/gemini-2.0-flash\n",
            "models/gemini-2.0-flash-001\n",
            "models/gemini-2.0-flash-exp-image-generation\n",
            "models/gemini-2.0-flash-lite-001\n",
            "models/gemini-2.0-flash-lite\n",
            "models/gemini-2.0-flash-preview-image-generation\n",
            "models/gemini-2.0-flash-lite-preview-02-05\n",
            "models/gemini-2.0-flash-lite-preview\n",
            "models/gemini-2.0-pro-exp\n",
            "models/gemini-2.0-pro-exp-02-05\n",
            "models/gemini-exp-1206\n",
            "models/gemini-2.0-flash-thinking-exp-01-21\n",
            "models/gemini-2.0-flash-thinking-exp\n",
            "models/gemini-2.0-flash-thinking-exp-1219\n",
            "models/learnlm-2.0-flash-experimental\n",
            "models/gemma-3-1b-it\n",
            "models/gemma-3-4b-it\n",
            "models/gemma-3-12b-it\n",
            "models/gemma-3-27b-it\n",
            "models/embedding-001\n",
            "models/text-embedding-004\n",
            "models/gemini-embedding-exp-03-07\n",
            "models/gemini-embedding-exp\n",
            "models/aqa\n",
            "models/imagen-3.0-generate-002\n",
            "models/gemini-2.0-flash-live-001\n"
          ]
        }
      ]
    },
    {
      "cell_type": "code",
      "source": [
        "modelo = \"gemini-2.0-flash\"\n"
      ],
      "metadata": {
        "id": "6gjQbCSo6jER"
      },
      "execution_count": 39,
      "outputs": []
    },
    {
      "cell_type": "code",
      "source": [
        "def obter_texto_usuario():\n",
        "    texto = input(\"Digite o texto que você quer transformar: \")\n",
        "    return texto\n",
        "\n",
        "def obter_estilo_usuario():\n",
        "    print(\"\\nEscolha o estilo de transformação:\")\n",
        "    print(\"1. Formal\")\n",
        "    print(\"2. Informal\")\n",
        "    print(\"3. Poético\")\n",
        "    print(\"4. Humorístico\")\n",
        "    print(\"5. Sair\")\n",
        "\n",
        "    while True:\n",
        "        escolha = input(\"Digite o número do estilo desejado (1-5): \")\n",
        "        if escolha in ('1', '2', '3', '4', '5'):\n",
        "            return escolha\n",
        "        else:\n",
        "            print(\"Opção inválida. Por favor, digite um número entre 1 e 5.\")"
      ],
      "metadata": {
        "id": "XKMsrCvv-Dod"
      },
      "execution_count": 66,
      "outputs": []
    },
    {
      "cell_type": "code",
      "source": [
        "def transformar_texto(texto, estilo_escolhido):\n",
        "    if estilo_escolhido == '1':\n",
        "        prompt = f\"Reescreva o seguinte texto em um estilo formal, utilizando linguagem culta, frases bem estruturadas e um tom respeitoso: '{texto}'\"\n",
        "    elif estilo_escolhido == '2':\n",
        "        prompt = f\"Reescreva o seguinte texto em um estilo informal, utilizando linguagem coloquial, frases curtas e um tom amigável: '{texto}'\"\n",
        "    elif estilo_escolhido == '3':\n",
        "        prompt = f\"Transforme o seguinte texto em um estilo poético, utilizando metáforas, figuras de linguagem e uma linguagem emotiva: '{texto}'\"\n",
        "    elif estilo_escolhido == '4':\n",
        "        prompt = f\"Reescreva o seguinte texto em um estilo humorístico, utilizando trocadilhos, ironia e um tom bem-humorado. uma resposra sucinta: '{texto}'\"\n",
        "    else:\n",
        "        return None, \"Saindo...\"\n",
        "\n",
        "    try:\n",
        "        response = client.models.generate_content(model=modelo, contents=prompt)\n",
        "        return response.text, None\n",
        "    except Exception as e:\n",
        "        return None, f\"Ocorreu um erro na transformação: {e}\""
      ],
      "metadata": {
        "id": "Gk1dpEv--MF_"
      },
      "execution_count": 67,
      "outputs": []
    },
    {
      "cell_type": "code",
      "source": [
        "def main():\n",
        "    texto_original = \"\"\n",
        "    while True:\n",
        "        if not texto_original:\n",
        "            texto_original = obter_texto_usuario()\n",
        "            if texto_original.lower() == 'sair':\n",
        "                print(\"Encerrando o programa. Até a próxima!\")\n",
        "                break\n",
        "\n",
        "        estilo_escolhido = obter_estilo_usuario()\n",
        "        if estilo_escolhido == '5':\n",
        "            print(\"Encerrando o programa. Até a próxima!\")\n",
        "            break\n",
        "\n",
        "        print(f\"\\nTexto original: {texto_original}\")\n",
        "        print(f\"Estilo escolhido (número): {estilo_escolhido}\")\n",
        "\n",
        "        texto_transformado, erro = transformar_texto(texto_original, estilo_escolhido)\n",
        "\n",
        "        if erro:\n",
        "            print(f\"\\n{erro}\")\n",
        "        elif texto_transformado:\n",
        "            print(f\"\\nTexto transformado (estilo {estilo_escolhido}):\\n{texto_transformado}\")\n",
        "\n",
        "            while True:\n",
        "                nova_acao = input(\"\\nDeseja transformar o mesmo texto em outro estilo? (1. Sim / 2. Não): \")\n",
        "                if nova_acao == '1':\n",
        "                    break # Volta para o menu de escolha de estilo\n",
        "                elif nova_acao == '2':\n",
        "                    print(\"Encerrando o programa. Obrigado por usar!\")\n",
        "                    return # Encerra a função main e o programa\n",
        "                else:\n",
        "                    print(\"Opção inválida. Por favor, digite 1 para Sim ou 2 para Não.\")\n",
        "        else:\n",
        "            texto_original = \"\" # Se o usuário escolheu sair na transformação"
      ],
      "metadata": {
        "id": "8CgVUCi4Oyir"
      },
      "execution_count": 71,
      "outputs": []
    },
    {
      "cell_type": "code",
      "source": [
        "main()"
      ],
      "metadata": {
        "colab": {
          "base_uri": "https://localhost:8080/"
        },
        "id": "RR37eh5pO3R5",
        "outputId": "939c1f83-acc8-46a6-f3c7-ba7a2340f0b2"
      },
      "execution_count": 73,
      "outputs": [
        {
          "output_type": "stream",
          "name": "stdout",
          "text": [
            "Digite o texto que você quer transformar: O céu estava incrivelmente azul naquela tarde de verão. Uma brisa suave balançava as folhas das árvores, e o canto dos pássaros preenchia o ar com uma melodia alegre. Algumas pessoas passeavam pelo parque, aproveitando o dia ensolarado e a atmosfera relaxante. Era um momento de paz e tranquilidade.\n",
            "\n",
            "Escolha o estilo de transformação:\n",
            "1. Formal\n",
            "2. Informal\n",
            "3. Poético\n",
            "4. Humorístico\n",
            "5. Sair\n",
            "Digite o número do estilo desejado (1-5): 1\n",
            "\n",
            "Texto original: O céu estava incrivelmente azul naquela tarde de verão. Uma brisa suave balançava as folhas das árvores, e o canto dos pássaros preenchia o ar com uma melodia alegre. Algumas pessoas passeavam pelo parque, aproveitando o dia ensolarado e a atmosfera relaxante. Era um momento de paz e tranquilidade.\n",
            "Estilo escolhido (número): 1\n",
            "\n",
            "Texto transformado (estilo 1):\n",
            "Naquela tarde estival, o firmamento exibia um azul de rara beleza e intensidade. Uma brisa tênue e gentil acariciava a folhagem das árvores, enquanto o canto melodioso das aves impregnava o ambiente com uma atmosfera jovial e serena. Alguns transeuntes, a fruir o dia ensolarado, vagavam pelo parque, buscando refúgio na atmosfera aprazível e repousante que ali se manifestava. Era, portanto, um momento ímpar de paz e quietude.\n",
            "\n",
            "\n",
            "Deseja transformar o mesmo texto em outro estilo? (1. Sim / 2. Não): 1\n",
            "\n",
            "Escolha o estilo de transformação:\n",
            "1. Formal\n",
            "2. Informal\n",
            "3. Poético\n",
            "4. Humorístico\n",
            "5. Sair\n",
            "Digite o número do estilo desejado (1-5): 2\n",
            "\n",
            "Texto original: O céu estava incrivelmente azul naquela tarde de verão. Uma brisa suave balançava as folhas das árvores, e o canto dos pássaros preenchia o ar com uma melodia alegre. Algumas pessoas passeavam pelo parque, aproveitando o dia ensolarado e a atmosfera relaxante. Era um momento de paz e tranquilidade.\n",
            "Estilo escolhido (número): 2\n",
            "\n",
            "Texto transformado (estilo 2):\n",
            "E aí! Cara, que dia lindo! O céu tava um azul absurdo, sabe? Tipo, de cinema! Uma brisa gostosa balançava as folhas das árvores, e os passarinhos cantavam que era uma beleza. A galera tava curtindo o parque, mó solzão e a vibe super tranquila. Deu uma paz, um relax... show de bola!\n",
            "\n",
            "\n",
            "Deseja transformar o mesmo texto em outro estilo? (1. Sim / 2. Não): 1\n",
            "\n",
            "Escolha o estilo de transformação:\n",
            "1. Formal\n",
            "2. Informal\n",
            "3. Poético\n",
            "4. Humorístico\n",
            "5. Sair\n",
            "Digite o número do estilo desejado (1-5): 3\n",
            "\n",
            "Texto original: O céu estava incrivelmente azul naquela tarde de verão. Uma brisa suave balançava as folhas das árvores, e o canto dos pássaros preenchia o ar com uma melodia alegre. Algumas pessoas passeavam pelo parque, aproveitando o dia ensolarado e a atmosfera relaxante. Era um momento de paz e tranquilidade.\n",
            "Estilo escolhido (número): 3\n",
            "\n",
            "Texto transformado (estilo 3):\n",
            "**Versão Poética:**\n",
            "\n",
            "Na tela infinita da tarde estival,\n",
            "o azul celeste se derramava em aquarela,\n",
            "pintando o mundo com pincel divinal.\n",
            "\n",
            "A brisa, bailarina invisível e sutil,\n",
            "desenhava arabescos nas folhas verdejantes,\n",
            "um murmúrio secreto, um beijo febril.\n",
            "\n",
            "E a orquestra alada, em voo matinal,\n",
            "tecendo sinfonias de gorjeios e cantos,\n",
            "melodia que acalma a alma, eternal.\n",
            "\n",
            "No parque, almas errantes, em doce ritual,\n",
            "banhavam-se no sol, ouro incandescente,\n",
            "acolhidos pela paz, num abraço total.\n",
            "\n",
            "O tempo, enfim, detido em seu portal,\n",
            "um instante suspenso, de pura calmaria,\n",
            "onde a alma repousa, liberta do mal.\n",
            "\n",
            "\n",
            "Deseja transformar o mesmo texto em outro estilo? (1. Sim / 2. Não): 1\n",
            "\n",
            "Escolha o estilo de transformação:\n",
            "1. Formal\n",
            "2. Informal\n",
            "3. Poético\n",
            "4. Humorístico\n",
            "5. Sair\n",
            "Digite o número do estilo desejado (1-5): 4\n",
            "\n",
            "Texto original: O céu estava incrivelmente azul naquela tarde de verão. Uma brisa suave balançava as folhas das árvores, e o canto dos pássaros preenchia o ar com uma melodia alegre. Algumas pessoas passeavam pelo parque, aproveitando o dia ensolarado e a atmosfera relaxante. Era um momento de paz e tranquilidade.\n",
            "Estilo escolhido (número): 4\n",
            "\n",
            "Texto transformado (estilo 4):\n",
            "O céu azulzinho, tão azul que dava inveja ao Smurf mais azul, resolveu dar o ar da sua graça naquela tarde de verão. Uma brisa, preguiçosa que só ela, fazia as folhas dançarem um \"vem-cá-mas-não-vou\" com as árvores. E os passarinhos? Ah, esses resolveram montar uma rave no parque, com melodias tão alegres que até a grama sentiu vontade de sapatear. Pessoas? Algumas, corajosamente, se aventuraram no parque, tentando entender o que era \"relaxamento\" em meio a tanta animação. Era um momento de paz? Digamos que a paz estava de férias, curtindo um dia de sol em outro lugar, enquanto a tranquilidade tirava um cochilo bem merecido.\n",
            "\n",
            "\n",
            "Deseja transformar o mesmo texto em outro estilo? (1. Sim / 2. Não): 2\n",
            "Encerrando o programa. Obrigado por usar!\n"
          ]
        }
      ]
    }
  ]
}